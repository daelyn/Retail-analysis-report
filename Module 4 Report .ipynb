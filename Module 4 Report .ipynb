{
 "cells": [
  {
   "cell_type": "markdown",
   "metadata": {},
   "source": [
    "# <font color = Purple > _Daelyn Oliveira_ <font>"
   ]
  },
  {
   "cell_type": "markdown",
   "metadata": {},
   "source": [
    "## <font color = blue > _Module 5 Report<font> -<font color = blue> Retail_ <font>"
   ]
  },
  {
   "cell_type": "markdown",
   "metadata": {},
   "source": [
    "## 1. Objective of the Proposed Research <br>"
   ]
  },
  {
   "cell_type": "markdown",
   "metadata": {},
   "source": [
    "Maximum retail depends on the way shoppers are approached and being able to target appropriate shoppers. Being able to identify the target customers is the key to good retail business. <br>\n",
    "\n",
    "The objective of any retail business should first be to learn who they're target shoppers are and then work on the strategy to approach and target them. <br>\n",
    "\n",
    "This research is being done to make the most comprehensive analysis using the datasets provided and to achieve the $20,000 bonus Amazon is offering through the launch of Amazon Prime service. "
   ]
  },
  {
   "cell_type": "markdown",
   "metadata": {},
   "source": [
    "## 2. Data Exploration"
   ]
  },
  {
   "cell_type": "markdown",
   "metadata": {},
   "source": [
    "We first import the data in csv format and also strings aren't converted to factors. "
   ]
  },
  {
   "cell_type": "code",
   "execution_count": 1,
   "metadata": {},
   "outputs": [],
   "source": [
    "features <- read.csv(\"Features data set.csv\", stringsAsFactors = F)\n",
    "sales <- read.csv(\"sales data-set.csv\", stringsAsFactors = F)\n",
    "stores <- read.csv(\"stores data-set.csv\", stringsAsFactors = F)"
   ]
  },
  {
   "cell_type": "markdown",
   "metadata": {},
   "source": [
    "The below code shows the first 6 rows of the features dataset. "
   ]
  },
  {
   "cell_type": "code",
   "execution_count": 2,
   "metadata": {},
   "outputs": [
    {
     "data": {
      "text/html": [
       "<table>\n",
       "<thead><tr><th scope=col>Store</th><th scope=col>Date</th><th scope=col>Temperature</th><th scope=col>Fuel_Price</th><th scope=col>MarkDown1</th><th scope=col>MarkDown2</th><th scope=col>MarkDown3</th><th scope=col>MarkDown4</th><th scope=col>MarkDown5</th><th scope=col>CPI</th><th scope=col>Unemployment</th><th scope=col>IsHoliday</th></tr></thead>\n",
       "<tbody>\n",
       "\t<tr><td>1         </td><td>05/02/2010</td><td>42.31     </td><td>2.572     </td><td>NA        </td><td>NA        </td><td>NA        </td><td>NA        </td><td>NA        </td><td>211.0964  </td><td>8.106     </td><td>FALSE     </td></tr>\n",
       "\t<tr><td>1         </td><td>12/02/2010</td><td>38.51     </td><td>2.548     </td><td>NA        </td><td>NA        </td><td>NA        </td><td>NA        </td><td>NA        </td><td>211.2422  </td><td>8.106     </td><td> TRUE     </td></tr>\n",
       "\t<tr><td>1         </td><td>19/02/2010</td><td>39.93     </td><td>2.514     </td><td>NA        </td><td>NA        </td><td>NA        </td><td>NA        </td><td>NA        </td><td>211.2891  </td><td>8.106     </td><td>FALSE     </td></tr>\n",
       "\t<tr><td>1         </td><td>26/02/2010</td><td>46.63     </td><td>2.561     </td><td>NA        </td><td>NA        </td><td>NA        </td><td>NA        </td><td>NA        </td><td>211.3196  </td><td>8.106     </td><td>FALSE     </td></tr>\n",
       "\t<tr><td>1         </td><td>05/03/2010</td><td>46.50     </td><td>2.625     </td><td>NA        </td><td>NA        </td><td>NA        </td><td>NA        </td><td>NA        </td><td>211.3501  </td><td>8.106     </td><td>FALSE     </td></tr>\n",
       "\t<tr><td>1         </td><td>12/03/2010</td><td>57.79     </td><td>2.667     </td><td>NA        </td><td>NA        </td><td>NA        </td><td>NA        </td><td>NA        </td><td>211.3806  </td><td>8.106     </td><td>FALSE     </td></tr>\n",
       "</tbody>\n",
       "</table>\n"
      ],
      "text/latex": [
       "\\begin{tabular}{r|llllllllllll}\n",
       " Store & Date & Temperature & Fuel\\_Price & MarkDown1 & MarkDown2 & MarkDown3 & MarkDown4 & MarkDown5 & CPI & Unemployment & IsHoliday\\\\\n",
       "\\hline\n",
       "\t 1          & 05/02/2010 & 42.31      & 2.572      & NA         & NA         & NA         & NA         & NA         & 211.0964   & 8.106      & FALSE     \\\\\n",
       "\t 1          & 12/02/2010 & 38.51      & 2.548      & NA         & NA         & NA         & NA         & NA         & 211.2422   & 8.106      &  TRUE     \\\\\n",
       "\t 1          & 19/02/2010 & 39.93      & 2.514      & NA         & NA         & NA         & NA         & NA         & 211.2891   & 8.106      & FALSE     \\\\\n",
       "\t 1          & 26/02/2010 & 46.63      & 2.561      & NA         & NA         & NA         & NA         & NA         & 211.3196   & 8.106      & FALSE     \\\\\n",
       "\t 1          & 05/03/2010 & 46.50      & 2.625      & NA         & NA         & NA         & NA         & NA         & 211.3501   & 8.106      & FALSE     \\\\\n",
       "\t 1          & 12/03/2010 & 57.79      & 2.667      & NA         & NA         & NA         & NA         & NA         & 211.3806   & 8.106      & FALSE     \\\\\n",
       "\\end{tabular}\n"
      ],
      "text/markdown": [
       "\n",
       "| Store | Date | Temperature | Fuel_Price | MarkDown1 | MarkDown2 | MarkDown3 | MarkDown4 | MarkDown5 | CPI | Unemployment | IsHoliday |\n",
       "|---|---|---|---|---|---|---|---|---|---|---|---|\n",
       "| 1          | 05/02/2010 | 42.31      | 2.572      | NA         | NA         | NA         | NA         | NA         | 211.0964   | 8.106      | FALSE      |\n",
       "| 1          | 12/02/2010 | 38.51      | 2.548      | NA         | NA         | NA         | NA         | NA         | 211.2422   | 8.106      |  TRUE      |\n",
       "| 1          | 19/02/2010 | 39.93      | 2.514      | NA         | NA         | NA         | NA         | NA         | 211.2891   | 8.106      | FALSE      |\n",
       "| 1          | 26/02/2010 | 46.63      | 2.561      | NA         | NA         | NA         | NA         | NA         | 211.3196   | 8.106      | FALSE      |\n",
       "| 1          | 05/03/2010 | 46.50      | 2.625      | NA         | NA         | NA         | NA         | NA         | 211.3501   | 8.106      | FALSE      |\n",
       "| 1          | 12/03/2010 | 57.79      | 2.667      | NA         | NA         | NA         | NA         | NA         | 211.3806   | 8.106      | FALSE      |\n",
       "\n"
      ],
      "text/plain": [
       "  Store Date       Temperature Fuel_Price MarkDown1 MarkDown2 MarkDown3\n",
       "1 1     05/02/2010 42.31       2.572      NA        NA        NA       \n",
       "2 1     12/02/2010 38.51       2.548      NA        NA        NA       \n",
       "3 1     19/02/2010 39.93       2.514      NA        NA        NA       \n",
       "4 1     26/02/2010 46.63       2.561      NA        NA        NA       \n",
       "5 1     05/03/2010 46.50       2.625      NA        NA        NA       \n",
       "6 1     12/03/2010 57.79       2.667      NA        NA        NA       \n",
       "  MarkDown4 MarkDown5 CPI      Unemployment IsHoliday\n",
       "1 NA        NA        211.0964 8.106        FALSE    \n",
       "2 NA        NA        211.2422 8.106         TRUE    \n",
       "3 NA        NA        211.2891 8.106        FALSE    \n",
       "4 NA        NA        211.3196 8.106        FALSE    \n",
       "5 NA        NA        211.3501 8.106        FALSE    \n",
       "6 NA        NA        211.3806 8.106        FALSE    "
      ]
     },
     "metadata": {},
     "output_type": "display_data"
    },
    {
     "data": {
      "text/html": [
       "8190"
      ],
      "text/latex": [
       "8190"
      ],
      "text/markdown": [
       "8190"
      ],
      "text/plain": [
       "[1] 8190"
      ]
     },
     "metadata": {},
     "output_type": "display_data"
    }
   ],
   "source": [
    "head(features)\n",
    "nrow(features)"
   ]
  },
  {
   "cell_type": "markdown",
   "metadata": {},
   "source": [
    "The below code displayes the bottom 6 rows of the sales dataset. "
   ]
  },
  {
   "cell_type": "code",
   "execution_count": 3,
   "metadata": {},
   "outputs": [
    {
     "data": {
      "text/html": [
       "<table>\n",
       "<thead><tr><th></th><th scope=col>Store</th><th scope=col>Dept</th><th scope=col>Date</th><th scope=col>Weekly_Sales</th><th scope=col>IsHoliday</th></tr></thead>\n",
       "<tbody>\n",
       "\t<tr><th scope=row>421565</th><td>45        </td><td>98        </td><td>21/09/2012</td><td> 467.30   </td><td>FALSE     </td></tr>\n",
       "\t<tr><th scope=row>421566</th><td>45        </td><td>98        </td><td>28/09/2012</td><td> 508.37   </td><td>FALSE     </td></tr>\n",
       "\t<tr><th scope=row>421567</th><td>45        </td><td>98        </td><td>05/10/2012</td><td> 628.10   </td><td>FALSE     </td></tr>\n",
       "\t<tr><th scope=row>421568</th><td>45        </td><td>98        </td><td>12/10/2012</td><td>1061.02   </td><td>FALSE     </td></tr>\n",
       "\t<tr><th scope=row>421569</th><td>45        </td><td>98        </td><td>19/10/2012</td><td> 760.01   </td><td>FALSE     </td></tr>\n",
       "\t<tr><th scope=row>421570</th><td>45        </td><td>98        </td><td>26/10/2012</td><td>1076.80   </td><td>FALSE     </td></tr>\n",
       "</tbody>\n",
       "</table>\n"
      ],
      "text/latex": [
       "\\begin{tabular}{r|lllll}\n",
       "  & Store & Dept & Date & Weekly\\_Sales & IsHoliday\\\\\n",
       "\\hline\n",
       "\t421565 & 45         & 98         & 21/09/2012 &  467.30    & FALSE     \\\\\n",
       "\t421566 & 45         & 98         & 28/09/2012 &  508.37    & FALSE     \\\\\n",
       "\t421567 & 45         & 98         & 05/10/2012 &  628.10    & FALSE     \\\\\n",
       "\t421568 & 45         & 98         & 12/10/2012 & 1061.02    & FALSE     \\\\\n",
       "\t421569 & 45         & 98         & 19/10/2012 &  760.01    & FALSE     \\\\\n",
       "\t421570 & 45         & 98         & 26/10/2012 & 1076.80    & FALSE     \\\\\n",
       "\\end{tabular}\n"
      ],
      "text/markdown": [
       "\n",
       "| <!--/--> | Store | Dept | Date | Weekly_Sales | IsHoliday |\n",
       "|---|---|---|---|---|---|\n",
       "| 421565 | 45         | 98         | 21/09/2012 |  467.30    | FALSE      |\n",
       "| 421566 | 45         | 98         | 28/09/2012 |  508.37    | FALSE      |\n",
       "| 421567 | 45         | 98         | 05/10/2012 |  628.10    | FALSE      |\n",
       "| 421568 | 45         | 98         | 12/10/2012 | 1061.02    | FALSE      |\n",
       "| 421569 | 45         | 98         | 19/10/2012 |  760.01    | FALSE      |\n",
       "| 421570 | 45         | 98         | 26/10/2012 | 1076.80    | FALSE      |\n",
       "\n"
      ],
      "text/plain": [
       "       Store Dept Date       Weekly_Sales IsHoliday\n",
       "421565 45    98   21/09/2012  467.30      FALSE    \n",
       "421566 45    98   28/09/2012  508.37      FALSE    \n",
       "421567 45    98   05/10/2012  628.10      FALSE    \n",
       "421568 45    98   12/10/2012 1061.02      FALSE    \n",
       "421569 45    98   19/10/2012  760.01      FALSE    \n",
       "421570 45    98   26/10/2012 1076.80      FALSE    "
      ]
     },
     "metadata": {},
     "output_type": "display_data"
    },
    {
     "data": {
      "text/html": [
       "421570"
      ],
      "text/latex": [
       "421570"
      ],
      "text/markdown": [
       "421570"
      ],
      "text/plain": [
       "[1] 421570"
      ]
     },
     "metadata": {},
     "output_type": "display_data"
    }
   ],
   "source": [
    "tail(sales)\n",
    "nrow(sales)"
   ]
  },
  {
   "cell_type": "markdown",
   "metadata": {},
   "source": [
    "Below we get the number of rows and columns in the stores dataset."
   ]
  },
  {
   "cell_type": "code",
   "execution_count": 4,
   "metadata": {},
   "outputs": [
    {
     "data": {
      "text/html": [
       "45"
      ],
      "text/latex": [
       "45"
      ],
      "text/markdown": [
       "45"
      ],
      "text/plain": [
       "[1] 45"
      ]
     },
     "metadata": {},
     "output_type": "display_data"
    },
    {
     "data": {
      "text/html": [
       "3"
      ],
      "text/latex": [
       "3"
      ],
      "text/markdown": [
       "3"
      ],
      "text/plain": [
       "[1] 3"
      ]
     },
     "metadata": {},
     "output_type": "display_data"
    }
   ],
   "source": [
    "nrow(stores)\n",
    "ncol(stores)"
   ]
  },
  {
   "cell_type": "markdown",
   "metadata": {},
   "source": [
    "Below we install the package Hmisc, it is a miscellaneous package used for analysis, graphics. "
   ]
  },
  {
   "cell_type": "code",
   "execution_count": 5,
   "metadata": {},
   "outputs": [
    {
     "name": "stderr",
     "output_type": "stream",
     "text": [
      "Installing package into 'C:/Users/Daelyn/Documents/R/win-library/3.6'\n",
      "(as 'lib' is unspecified)\n"
     ]
    },
    {
     "name": "stdout",
     "output_type": "stream",
     "text": [
      "package 'Hmisc' successfully unpacked and MD5 sums checked\n",
      "\n",
      "The downloaded binary packages are in\n",
      "\tC:\\Users\\Daelyn\\AppData\\Local\\Temp\\Rtmp0GYNA5\\downloaded_packages\n"
     ]
    }
   ],
   "source": [
    "install.packages(\"Hmisc\")"
   ]
  },
  {
   "cell_type": "markdown",
   "metadata": {},
   "source": [
    "Here we call the library Hmisc"
   ]
  },
  {
   "cell_type": "code",
   "execution_count": 6,
   "metadata": {},
   "outputs": [
    {
     "name": "stderr",
     "output_type": "stream",
     "text": [
      "Loading required package: lattice\n",
      "Loading required package: survival\n",
      "Loading required package: Formula\n",
      "Loading required package: ggplot2\n",
      "\n",
      "Attaching package: 'Hmisc'\n",
      "\n",
      "The following objects are masked from 'package:base':\n",
      "\n",
      "    format.pval, units\n",
      "\n"
     ]
    }
   ],
   "source": [
    "library(Hmisc)"
   ]
  },
  {
   "cell_type": "markdown",
   "metadata": {},
   "source": [
    "Using the below code we get the basic descriptive statistics of the dataset sales."
   ]
  },
  {
   "cell_type": "code",
   "execution_count": 7,
   "metadata": {},
   "outputs": [
    {
     "data": {
      "text/plain": [
       "sales \n",
       "\n",
       " 5  Variables      421570  Observations\n",
       "--------------------------------------------------------------------------------\n",
       "Store \n",
       "       n  missing distinct     Info     Mean      Gmd      .05      .10 \n",
       "  421570        0       45    0.999     22.2    14.75        3        5 \n",
       "     .25      .50      .75      .90      .95 \n",
       "      11       22       33       40       43 \n",
       "\n",
       "lowest :  1  2  3  4  5, highest: 41 42 43 44 45\n",
       "--------------------------------------------------------------------------------\n",
       "Dept \n",
       "       n  missing distinct     Info     Mean      Gmd      .05      .10 \n",
       "  421570        0       81        1    44.26    34.76        4        7 \n",
       "     .25      .50      .75      .90      .95 \n",
       "      18       37       74       92       95 \n",
       "\n",
       "lowest :  1  2  3  4  5, highest: 95 96 97 98 99\n",
       "--------------------------------------------------------------------------------\n",
       "Date \n",
       "       n  missing distinct \n",
       "  421570        0      143 \n",
       "\n",
       "lowest : 01/04/2011 01/06/2012 01/07/2011 01/10/2010 02/03/2012\n",
       "highest: 30/07/2010 30/09/2011 30/12/2011 31/08/2012 31/12/2010\n",
       "--------------------------------------------------------------------------------\n",
       "Weekly_Sales \n",
       "       n  missing distinct     Info     Mean      Gmd      .05      .10 \n",
       "  421570        0   359464        1    15981    20067    59.97   291.10 \n",
       "     .25      .50      .75      .90      .95 \n",
       " 2079.65  7612.03 20205.85 42845.67 61201.95 \n",
       "\n",
       "lowest :  -4988.94  -3924.00  -1750.00  -1699.00  -1321.48\n",
       "highest: 474330.10 627962.93 630999.19 649770.18 693099.36\n",
       "--------------------------------------------------------------------------------\n",
       "IsHoliday \n",
       "       n  missing distinct \n",
       "  421570        0        2 \n",
       "                        \n",
       "Value       FALSE   TRUE\n",
       "Frequency  391909  29661\n",
       "Proportion   0.93   0.07\n",
       "--------------------------------------------------------------------------------"
      ]
     },
     "metadata": {},
     "output_type": "display_data"
    }
   ],
   "source": [
    "describe(sales)"
   ]
  },
  {
   "cell_type": "markdown",
   "metadata": {},
   "source": [
    "## 3. Merge"
   ]
  },
  {
   "cell_type": "markdown",
   "metadata": {},
   "source": [
    "First we merge the features and sales dataset as thye have a common column \"Date\" using whihc we can merge the two."
   ]
  },
  {
   "cell_type": "code",
   "execution_count": 8,
   "metadata": {},
   "outputs": [
    {
     "name": "stderr",
     "output_type": "stream",
     "text": [
      "Installing package into 'C:/Users/Daelyn/Documents/R/win-library/3.6'\n",
      "(as 'lib' is unspecified)\n"
     ]
    },
    {
     "name": "stdout",
     "output_type": "stream",
     "text": [
      "package 'data.table' successfully unpacked and MD5 sums checked\n"
     ]
    },
    {
     "name": "stderr",
     "output_type": "stream",
     "text": [
      "Warning message:\n",
      "\"cannot remove prior installation of package 'data.table'\"Warning message in file.copy(savedcopy, lib, recursive = TRUE):\n",
      "\"problem copying C:\\Users\\Daelyn\\Documents\\R\\win-library\\3.6\\00LOCK\\data.table\\libs\\x64\\datatable.dll to C:\\Users\\Daelyn\\Documents\\R\\win-library\\3.6\\data.table\\libs\\x64\\datatable.dll: Permission denied\"Warning message:\n",
      "\"restored 'data.table'\""
     ]
    },
    {
     "name": "stdout",
     "output_type": "stream",
     "text": [
      "\n",
      "The downloaded binary packages are in\n",
      "\tC:\\Users\\Daelyn\\AppData\\Local\\Temp\\Rtmp0GYNA5\\downloaded_packages\n"
     ]
    }
   ],
   "source": [
    "install.packages(\"data.table\")"
   ]
  },
  {
   "cell_type": "markdown",
   "metadata": {},
   "source": [
    "Below we call the data.table package. "
   ]
  },
  {
   "cell_type": "code",
   "execution_count": 9,
   "metadata": {},
   "outputs": [
    {
     "name": "stderr",
     "output_type": "stream",
     "text": [
      "Loading required package: data.table\n"
     ]
    }
   ],
   "source": [
    "require(data.table)"
   ]
  },
  {
   "cell_type": "markdown",
   "metadata": {},
   "source": [
    "fread is similar to read.csv but faster and more convenient."
   ]
  },
  {
   "cell_type": "code",
   "execution_count": 10,
   "metadata": {},
   "outputs": [],
   "source": [
    "data1 <- fread(\"Features data set.csv\")\n",
    "data2 <- fread(\"sales data-set.csv\")\n",
    "data3 <- fread(\"stores data-set.csv\")"
   ]
  },
  {
   "cell_type": "markdown",
   "metadata": {},
   "source": [
    "Here we merge data1 and data2 into merge1 using the columns Store, Date and IsHoliday"
   ]
  },
  {
   "cell_type": "code",
   "execution_count": 11,
   "metadata": {},
   "outputs": [],
   "source": [
    "merge1 <- merge(data1, data2, by =c(\"Store\", \"Date\", \"IsHoliday\"), all = TRUE)"
   ]
  },
  {
   "cell_type": "markdown",
   "metadata": {},
   "source": [
    "Below we display the top 6 rows of the above merged dataset."
   ]
  },
  {
   "cell_type": "code",
   "execution_count": 12,
   "metadata": {},
   "outputs": [
    {
     "data": {
      "text/html": [
       "<table>\n",
       "<thead><tr><th scope=col>Store</th><th scope=col>Date</th><th scope=col>IsHoliday</th><th scope=col>Temperature</th><th scope=col>Fuel_Price</th><th scope=col>MarkDown1</th><th scope=col>MarkDown2</th><th scope=col>MarkDown3</th><th scope=col>MarkDown4</th><th scope=col>MarkDown5</th><th scope=col>CPI</th><th scope=col>Unemployment</th><th scope=col>Dept</th><th scope=col>Weekly_Sales</th></tr></thead>\n",
       "<tbody>\n",
       "\t<tr><td>1         </td><td>01/02/2013</td><td>FALSE     </td><td>56.46     </td><td>3.244     </td><td> 9290.91  </td><td>1359.90   </td><td>265.0     </td><td>20657.82  </td><td> 972.61   </td><td>224.2353  </td><td>6.525     </td><td>NA        </td><td>      NA  </td></tr>\n",
       "\t<tr><td>1         </td><td>01/03/2013</td><td>FALSE     </td><td>48.01     </td><td>3.711     </td><td>10610.74  </td><td> 261.46   </td><td>  2.8     </td><td>   25.54  </td><td>2747.59   </td><td>224.5645  </td><td>6.525     </td><td>NA        </td><td>      NA  </td></tr>\n",
       "\t<tr><td>1         </td><td>01/04/2011</td><td>FALSE     </td><td>59.17     </td><td>3.524     </td><td>      NA  </td><td>     NA   </td><td>   NA     </td><td>      NA  </td><td>     NA   </td><td>214.8372  </td><td>7.682     </td><td> 1        </td><td>20398.09  </td></tr>\n",
       "\t<tr><td>1         </td><td>01/04/2011</td><td>FALSE     </td><td>59.17     </td><td>3.524     </td><td>      NA  </td><td>     NA   </td><td>   NA     </td><td>      NA  </td><td>     NA   </td><td>214.8372  </td><td>7.682     </td><td> 2        </td><td>46991.58  </td></tr>\n",
       "\t<tr><td>1         </td><td>01/04/2011</td><td>FALSE     </td><td>59.17     </td><td>3.524     </td><td>      NA  </td><td>     NA   </td><td>   NA     </td><td>      NA  </td><td>     NA   </td><td>214.8372  </td><td>7.682     </td><td> 3        </td><td> 8734.19  </td></tr>\n",
       "\t<tr><td>1         </td><td>01/04/2011</td><td>FALSE     </td><td>59.17     </td><td>3.524     </td><td>      NA  </td><td>     NA   </td><td>   NA     </td><td>      NA  </td><td>     NA   </td><td>214.8372  </td><td>7.682     </td><td> 4        </td><td>34451.90  </td></tr>\n",
       "</tbody>\n",
       "</table>\n"
      ],
      "text/latex": [
       "\\begin{tabular}{r|llllllllllllll}\n",
       " Store & Date & IsHoliday & Temperature & Fuel\\_Price & MarkDown1 & MarkDown2 & MarkDown3 & MarkDown4 & MarkDown5 & CPI & Unemployment & Dept & Weekly\\_Sales\\\\\n",
       "\\hline\n",
       "\t 1          & 01/02/2013 & FALSE      & 56.46      & 3.244      &  9290.91   & 1359.90    & 265.0      & 20657.82   &  972.61    & 224.2353   & 6.525      & NA         &       NA  \\\\\n",
       "\t 1          & 01/03/2013 & FALSE      & 48.01      & 3.711      & 10610.74   &  261.46    &   2.8      &    25.54   & 2747.59    & 224.5645   & 6.525      & NA         &       NA  \\\\\n",
       "\t 1          & 01/04/2011 & FALSE      & 59.17      & 3.524      &       NA   &      NA    &    NA      &       NA   &      NA    & 214.8372   & 7.682      &  1         & 20398.09  \\\\\n",
       "\t 1          & 01/04/2011 & FALSE      & 59.17      & 3.524      &       NA   &      NA    &    NA      &       NA   &      NA    & 214.8372   & 7.682      &  2         & 46991.58  \\\\\n",
       "\t 1          & 01/04/2011 & FALSE      & 59.17      & 3.524      &       NA   &      NA    &    NA      &       NA   &      NA    & 214.8372   & 7.682      &  3         &  8734.19  \\\\\n",
       "\t 1          & 01/04/2011 & FALSE      & 59.17      & 3.524      &       NA   &      NA    &    NA      &       NA   &      NA    & 214.8372   & 7.682      &  4         & 34451.90  \\\\\n",
       "\\end{tabular}\n"
      ],
      "text/markdown": [
       "\n",
       "| Store | Date | IsHoliday | Temperature | Fuel_Price | MarkDown1 | MarkDown2 | MarkDown3 | MarkDown4 | MarkDown5 | CPI | Unemployment | Dept | Weekly_Sales |\n",
       "|---|---|---|---|---|---|---|---|---|---|---|---|---|---|\n",
       "| 1          | 01/02/2013 | FALSE      | 56.46      | 3.244      |  9290.91   | 1359.90    | 265.0      | 20657.82   |  972.61    | 224.2353   | 6.525      | NA         |       NA   |\n",
       "| 1          | 01/03/2013 | FALSE      | 48.01      | 3.711      | 10610.74   |  261.46    |   2.8      |    25.54   | 2747.59    | 224.5645   | 6.525      | NA         |       NA   |\n",
       "| 1          | 01/04/2011 | FALSE      | 59.17      | 3.524      |       NA   |      NA    |    NA      |       NA   |      NA    | 214.8372   | 7.682      |  1         | 20398.09   |\n",
       "| 1          | 01/04/2011 | FALSE      | 59.17      | 3.524      |       NA   |      NA    |    NA      |       NA   |      NA    | 214.8372   | 7.682      |  2         | 46991.58   |\n",
       "| 1          | 01/04/2011 | FALSE      | 59.17      | 3.524      |       NA   |      NA    |    NA      |       NA   |      NA    | 214.8372   | 7.682      |  3         |  8734.19   |\n",
       "| 1          | 01/04/2011 | FALSE      | 59.17      | 3.524      |       NA   |      NA    |    NA      |       NA   |      NA    | 214.8372   | 7.682      |  4         | 34451.90   |\n",
       "\n"
      ],
      "text/plain": [
       "  Store Date       IsHoliday Temperature Fuel_Price MarkDown1 MarkDown2\n",
       "1 1     01/02/2013 FALSE     56.46       3.244       9290.91  1359.90  \n",
       "2 1     01/03/2013 FALSE     48.01       3.711      10610.74   261.46  \n",
       "3 1     01/04/2011 FALSE     59.17       3.524            NA       NA  \n",
       "4 1     01/04/2011 FALSE     59.17       3.524            NA       NA  \n",
       "5 1     01/04/2011 FALSE     59.17       3.524            NA       NA  \n",
       "6 1     01/04/2011 FALSE     59.17       3.524            NA       NA  \n",
       "  MarkDown3 MarkDown4 MarkDown5 CPI      Unemployment Dept Weekly_Sales\n",
       "1 265.0     20657.82   972.61   224.2353 6.525        NA         NA    \n",
       "2   2.8        25.54  2747.59   224.5645 6.525        NA         NA    \n",
       "3    NA           NA       NA   214.8372 7.682         1   20398.09    \n",
       "4    NA           NA       NA   214.8372 7.682         2   46991.58    \n",
       "5    NA           NA       NA   214.8372 7.682         3    8734.19    \n",
       "6    NA           NA       NA   214.8372 7.682         4   34451.90    "
      ]
     },
     "metadata": {},
     "output_type": "display_data"
    }
   ],
   "source": [
    "head(merge1)"
   ]
  },
  {
   "cell_type": "markdown",
   "metadata": {},
   "source": [
    "Here we merge the above merged dataset \"merge1\" with the dataset \"stores\" using the common column \"Store\" into sales_all"
   ]
  },
  {
   "cell_type": "code",
   "execution_count": 13,
   "metadata": {},
   "outputs": [],
   "source": [
    "sales_all1 <- merge(merge1, data3, by = \"Store\", all = TRUE)"
   ]
  },
  {
   "cell_type": "markdown",
   "metadata": {},
   "source": [
    "Below we display the top 6 rows of the final merged dataset sales_all"
   ]
  },
  {
   "cell_type": "code",
   "execution_count": 14,
   "metadata": {},
   "outputs": [
    {
     "data": {
      "text/html": [
       "<table>\n",
       "<thead><tr><th scope=col>Store</th><th scope=col>Date</th><th scope=col>IsHoliday</th><th scope=col>Temperature</th><th scope=col>Fuel_Price</th><th scope=col>MarkDown1</th><th scope=col>MarkDown2</th><th scope=col>MarkDown3</th><th scope=col>MarkDown4</th><th scope=col>MarkDown5</th><th scope=col>CPI</th><th scope=col>Unemployment</th><th scope=col>Dept</th><th scope=col>Weekly_Sales</th><th scope=col>Type</th><th scope=col>Size</th></tr></thead>\n",
       "<tbody>\n",
       "\t<tr><td>1         </td><td>01/02/2013</td><td>FALSE     </td><td>56.46     </td><td>3.244     </td><td> 9290.91  </td><td>1359.90   </td><td>265.0     </td><td>20657.82  </td><td> 972.61   </td><td>224.2353  </td><td>6.525     </td><td>NA        </td><td>      NA  </td><td>A         </td><td>151315    </td></tr>\n",
       "\t<tr><td>1         </td><td>01/03/2013</td><td>FALSE     </td><td>48.01     </td><td>3.711     </td><td>10610.74  </td><td> 261.46   </td><td>  2.8     </td><td>   25.54  </td><td>2747.59   </td><td>224.5645  </td><td>6.525     </td><td>NA        </td><td>      NA  </td><td>A         </td><td>151315    </td></tr>\n",
       "\t<tr><td>1         </td><td>01/04/2011</td><td>FALSE     </td><td>59.17     </td><td>3.524     </td><td>      NA  </td><td>     NA   </td><td>   NA     </td><td>      NA  </td><td>     NA   </td><td>214.8372  </td><td>7.682     </td><td> 1        </td><td>20398.09  </td><td>A         </td><td>151315    </td></tr>\n",
       "\t<tr><td>1         </td><td>01/04/2011</td><td>FALSE     </td><td>59.17     </td><td>3.524     </td><td>      NA  </td><td>     NA   </td><td>   NA     </td><td>      NA  </td><td>     NA   </td><td>214.8372  </td><td>7.682     </td><td> 2        </td><td>46991.58  </td><td>A         </td><td>151315    </td></tr>\n",
       "\t<tr><td>1         </td><td>01/04/2011</td><td>FALSE     </td><td>59.17     </td><td>3.524     </td><td>      NA  </td><td>     NA   </td><td>   NA     </td><td>      NA  </td><td>     NA   </td><td>214.8372  </td><td>7.682     </td><td> 3        </td><td> 8734.19  </td><td>A         </td><td>151315    </td></tr>\n",
       "\t<tr><td>1         </td><td>01/04/2011</td><td>FALSE     </td><td>59.17     </td><td>3.524     </td><td>      NA  </td><td>     NA   </td><td>   NA     </td><td>      NA  </td><td>     NA   </td><td>214.8372  </td><td>7.682     </td><td> 4        </td><td>34451.90  </td><td>A         </td><td>151315    </td></tr>\n",
       "</tbody>\n",
       "</table>\n"
      ],
      "text/latex": [
       "\\begin{tabular}{r|llllllllllllllll}\n",
       " Store & Date & IsHoliday & Temperature & Fuel\\_Price & MarkDown1 & MarkDown2 & MarkDown3 & MarkDown4 & MarkDown5 & CPI & Unemployment & Dept & Weekly\\_Sales & Type & Size\\\\\n",
       "\\hline\n",
       "\t 1          & 01/02/2013 & FALSE      & 56.46      & 3.244      &  9290.91   & 1359.90    & 265.0      & 20657.82   &  972.61    & 224.2353   & 6.525      & NA         &       NA   & A          & 151315    \\\\\n",
       "\t 1          & 01/03/2013 & FALSE      & 48.01      & 3.711      & 10610.74   &  261.46    &   2.8      &    25.54   & 2747.59    & 224.5645   & 6.525      & NA         &       NA   & A          & 151315    \\\\\n",
       "\t 1          & 01/04/2011 & FALSE      & 59.17      & 3.524      &       NA   &      NA    &    NA      &       NA   &      NA    & 214.8372   & 7.682      &  1         & 20398.09   & A          & 151315    \\\\\n",
       "\t 1          & 01/04/2011 & FALSE      & 59.17      & 3.524      &       NA   &      NA    &    NA      &       NA   &      NA    & 214.8372   & 7.682      &  2         & 46991.58   & A          & 151315    \\\\\n",
       "\t 1          & 01/04/2011 & FALSE      & 59.17      & 3.524      &       NA   &      NA    &    NA      &       NA   &      NA    & 214.8372   & 7.682      &  3         &  8734.19   & A          & 151315    \\\\\n",
       "\t 1          & 01/04/2011 & FALSE      & 59.17      & 3.524      &       NA   &      NA    &    NA      &       NA   &      NA    & 214.8372   & 7.682      &  4         & 34451.90   & A          & 151315    \\\\\n",
       "\\end{tabular}\n"
      ],
      "text/markdown": [
       "\n",
       "| Store | Date | IsHoliday | Temperature | Fuel_Price | MarkDown1 | MarkDown2 | MarkDown3 | MarkDown4 | MarkDown5 | CPI | Unemployment | Dept | Weekly_Sales | Type | Size |\n",
       "|---|---|---|---|---|---|---|---|---|---|---|---|---|---|---|---|\n",
       "| 1          | 01/02/2013 | FALSE      | 56.46      | 3.244      |  9290.91   | 1359.90    | 265.0      | 20657.82   |  972.61    | 224.2353   | 6.525      | NA         |       NA   | A          | 151315     |\n",
       "| 1          | 01/03/2013 | FALSE      | 48.01      | 3.711      | 10610.74   |  261.46    |   2.8      |    25.54   | 2747.59    | 224.5645   | 6.525      | NA         |       NA   | A          | 151315     |\n",
       "| 1          | 01/04/2011 | FALSE      | 59.17      | 3.524      |       NA   |      NA    |    NA      |       NA   |      NA    | 214.8372   | 7.682      |  1         | 20398.09   | A          | 151315     |\n",
       "| 1          | 01/04/2011 | FALSE      | 59.17      | 3.524      |       NA   |      NA    |    NA      |       NA   |      NA    | 214.8372   | 7.682      |  2         | 46991.58   | A          | 151315     |\n",
       "| 1          | 01/04/2011 | FALSE      | 59.17      | 3.524      |       NA   |      NA    |    NA      |       NA   |      NA    | 214.8372   | 7.682      |  3         |  8734.19   | A          | 151315     |\n",
       "| 1          | 01/04/2011 | FALSE      | 59.17      | 3.524      |       NA   |      NA    |    NA      |       NA   |      NA    | 214.8372   | 7.682      |  4         | 34451.90   | A          | 151315     |\n",
       "\n"
      ],
      "text/plain": [
       "  Store Date       IsHoliday Temperature Fuel_Price MarkDown1 MarkDown2\n",
       "1 1     01/02/2013 FALSE     56.46       3.244       9290.91  1359.90  \n",
       "2 1     01/03/2013 FALSE     48.01       3.711      10610.74   261.46  \n",
       "3 1     01/04/2011 FALSE     59.17       3.524            NA       NA  \n",
       "4 1     01/04/2011 FALSE     59.17       3.524            NA       NA  \n",
       "5 1     01/04/2011 FALSE     59.17       3.524            NA       NA  \n",
       "6 1     01/04/2011 FALSE     59.17       3.524            NA       NA  \n",
       "  MarkDown3 MarkDown4 MarkDown5 CPI      Unemployment Dept Weekly_Sales Type\n",
       "1 265.0     20657.82   972.61   224.2353 6.525        NA         NA     A   \n",
       "2   2.8        25.54  2747.59   224.5645 6.525        NA         NA     A   \n",
       "3    NA           NA       NA   214.8372 7.682         1   20398.09     A   \n",
       "4    NA           NA       NA   214.8372 7.682         2   46991.58     A   \n",
       "5    NA           NA       NA   214.8372 7.682         3    8734.19     A   \n",
       "6    NA           NA       NA   214.8372 7.682         4   34451.90     A   \n",
       "  Size  \n",
       "1 151315\n",
       "2 151315\n",
       "3 151315\n",
       "4 151315\n",
       "5 151315\n",
       "6 151315"
      ]
     },
     "metadata": {},
     "output_type": "display_data"
    }
   ],
   "source": [
    "head(sales_all1)"
   ]
  },
  {
   "cell_type": "markdown",
   "metadata": {},
   "source": [
    "We remove all the rows with NA values in any column."
   ]
  },
  {
   "cell_type": "code",
   "execution_count": 15,
   "metadata": {},
   "outputs": [],
   "source": [
    "sales_all <- na.omit(sales_all1)"
   ]
  },
  {
   "cell_type": "markdown",
   "metadata": {},
   "source": [
    "We display the top 6 vales of the cleaned dataset below."
   ]
  },
  {
   "cell_type": "code",
   "execution_count": 39,
   "metadata": {},
   "outputs": [
    {
     "data": {
      "text/html": [
       "<table>\n",
       "<thead><tr><th scope=col>Store</th><th scope=col>Date</th><th scope=col>IsHoliday</th><th scope=col>Temperature</th><th scope=col>Fuel_Price</th><th scope=col>MarkDown1</th><th scope=col>MarkDown2</th><th scope=col>MarkDown3</th><th scope=col>MarkDown4</th><th scope=col>MarkDown5</th><th scope=col>CPI</th><th scope=col>Unemployment</th><th scope=col>Dept</th><th scope=col>Weekly_Sales</th><th scope=col>Type</th><th scope=col>Size</th></tr></thead>\n",
       "<tbody>\n",
       "\t<tr><td>1         </td><td>01/06/2012</td><td>FALSE     </td><td>77.95     </td><td>3.501     </td><td>6086.21   </td><td>12        </td><td>370.51    </td><td>148.75    </td><td>3690.85   </td><td>221.7472  </td><td>7.143     </td><td>1         </td><td>16065.49  </td><td>A         </td><td>151315    </td></tr>\n",
       "\t<tr><td>1         </td><td>01/06/2012</td><td>FALSE     </td><td>77.95     </td><td>3.501     </td><td>6086.21   </td><td>12        </td><td>370.51    </td><td>148.75    </td><td>3690.85   </td><td>221.7472  </td><td>7.143     </td><td>2         </td><td>47425.29  </td><td>A         </td><td>151315    </td></tr>\n",
       "\t<tr><td>1         </td><td>01/06/2012</td><td>FALSE     </td><td>77.95     </td><td>3.501     </td><td>6086.21   </td><td>12        </td><td>370.51    </td><td>148.75    </td><td>3690.85   </td><td>221.7472  </td><td>7.143     </td><td>3         </td><td> 7175.77  </td><td>A         </td><td>151315    </td></tr>\n",
       "\t<tr><td>1         </td><td>01/06/2012</td><td>FALSE     </td><td>77.95     </td><td>3.501     </td><td>6086.21   </td><td>12        </td><td>370.51    </td><td>148.75    </td><td>3690.85   </td><td>221.7472  </td><td>7.143     </td><td>4         </td><td>41566.55  </td><td>A         </td><td>151315    </td></tr>\n",
       "\t<tr><td>1         </td><td>01/06/2012</td><td>FALSE     </td><td>77.95     </td><td>3.501     </td><td>6086.21   </td><td>12        </td><td>370.51    </td><td>148.75    </td><td>3690.85   </td><td>221.7472  </td><td>7.143     </td><td>5         </td><td>17233.25  </td><td>A         </td><td>151315    </td></tr>\n",
       "\t<tr><td>1         </td><td>01/06/2012</td><td>FALSE     </td><td>77.95     </td><td>3.501     </td><td>6086.21   </td><td>12        </td><td>370.51    </td><td>148.75    </td><td>3690.85   </td><td>221.7472  </td><td>7.143     </td><td>6         </td><td> 3249.75  </td><td>A         </td><td>151315    </td></tr>\n",
       "</tbody>\n",
       "</table>\n"
      ],
      "text/latex": [
       "\\begin{tabular}{r|llllllllllllllll}\n",
       " Store & Date & IsHoliday & Temperature & Fuel\\_Price & MarkDown1 & MarkDown2 & MarkDown3 & MarkDown4 & MarkDown5 & CPI & Unemployment & Dept & Weekly\\_Sales & Type & Size\\\\\n",
       "\\hline\n",
       "\t 1          & 01/06/2012 & FALSE      & 77.95      & 3.501      & 6086.21    & 12         & 370.51     & 148.75     & 3690.85    & 221.7472   & 7.143      & 1          & 16065.49   & A          & 151315    \\\\\n",
       "\t 1          & 01/06/2012 & FALSE      & 77.95      & 3.501      & 6086.21    & 12         & 370.51     & 148.75     & 3690.85    & 221.7472   & 7.143      & 2          & 47425.29   & A          & 151315    \\\\\n",
       "\t 1          & 01/06/2012 & FALSE      & 77.95      & 3.501      & 6086.21    & 12         & 370.51     & 148.75     & 3690.85    & 221.7472   & 7.143      & 3          &  7175.77   & A          & 151315    \\\\\n",
       "\t 1          & 01/06/2012 & FALSE      & 77.95      & 3.501      & 6086.21    & 12         & 370.51     & 148.75     & 3690.85    & 221.7472   & 7.143      & 4          & 41566.55   & A          & 151315    \\\\\n",
       "\t 1          & 01/06/2012 & FALSE      & 77.95      & 3.501      & 6086.21    & 12         & 370.51     & 148.75     & 3690.85    & 221.7472   & 7.143      & 5          & 17233.25   & A          & 151315    \\\\\n",
       "\t 1          & 01/06/2012 & FALSE      & 77.95      & 3.501      & 6086.21    & 12         & 370.51     & 148.75     & 3690.85    & 221.7472   & 7.143      & 6          &  3249.75   & A          & 151315    \\\\\n",
       "\\end{tabular}\n"
      ],
      "text/markdown": [
       "\n",
       "| Store | Date | IsHoliday | Temperature | Fuel_Price | MarkDown1 | MarkDown2 | MarkDown3 | MarkDown4 | MarkDown5 | CPI | Unemployment | Dept | Weekly_Sales | Type | Size |\n",
       "|---|---|---|---|---|---|---|---|---|---|---|---|---|---|---|---|\n",
       "| 1          | 01/06/2012 | FALSE      | 77.95      | 3.501      | 6086.21    | 12         | 370.51     | 148.75     | 3690.85    | 221.7472   | 7.143      | 1          | 16065.49   | A          | 151315     |\n",
       "| 1          | 01/06/2012 | FALSE      | 77.95      | 3.501      | 6086.21    | 12         | 370.51     | 148.75     | 3690.85    | 221.7472   | 7.143      | 2          | 47425.29   | A          | 151315     |\n",
       "| 1          | 01/06/2012 | FALSE      | 77.95      | 3.501      | 6086.21    | 12         | 370.51     | 148.75     | 3690.85    | 221.7472   | 7.143      | 3          |  7175.77   | A          | 151315     |\n",
       "| 1          | 01/06/2012 | FALSE      | 77.95      | 3.501      | 6086.21    | 12         | 370.51     | 148.75     | 3690.85    | 221.7472   | 7.143      | 4          | 41566.55   | A          | 151315     |\n",
       "| 1          | 01/06/2012 | FALSE      | 77.95      | 3.501      | 6086.21    | 12         | 370.51     | 148.75     | 3690.85    | 221.7472   | 7.143      | 5          | 17233.25   | A          | 151315     |\n",
       "| 1          | 01/06/2012 | FALSE      | 77.95      | 3.501      | 6086.21    | 12         | 370.51     | 148.75     | 3690.85    | 221.7472   | 7.143      | 6          |  3249.75   | A          | 151315     |\n",
       "\n"
      ],
      "text/plain": [
       "  Store Date       IsHoliday Temperature Fuel_Price MarkDown1 MarkDown2\n",
       "1 1     01/06/2012 FALSE     77.95       3.501      6086.21   12       \n",
       "2 1     01/06/2012 FALSE     77.95       3.501      6086.21   12       \n",
       "3 1     01/06/2012 FALSE     77.95       3.501      6086.21   12       \n",
       "4 1     01/06/2012 FALSE     77.95       3.501      6086.21   12       \n",
       "5 1     01/06/2012 FALSE     77.95       3.501      6086.21   12       \n",
       "6 1     01/06/2012 FALSE     77.95       3.501      6086.21   12       \n",
       "  MarkDown3 MarkDown4 MarkDown5 CPI      Unemployment Dept Weekly_Sales Type\n",
       "1 370.51    148.75    3690.85   221.7472 7.143        1    16065.49     A   \n",
       "2 370.51    148.75    3690.85   221.7472 7.143        2    47425.29     A   \n",
       "3 370.51    148.75    3690.85   221.7472 7.143        3     7175.77     A   \n",
       "4 370.51    148.75    3690.85   221.7472 7.143        4    41566.55     A   \n",
       "5 370.51    148.75    3690.85   221.7472 7.143        5    17233.25     A   \n",
       "6 370.51    148.75    3690.85   221.7472 7.143        6     3249.75     A   \n",
       "  Size  \n",
       "1 151315\n",
       "2 151315\n",
       "3 151315\n",
       "4 151315\n",
       "5 151315\n",
       "6 151315"
      ]
     },
     "metadata": {},
     "output_type": "display_data"
    }
   ],
   "source": [
    "head(sales_all)"
   ]
  },
  {
   "cell_type": "markdown",
   "metadata": {},
   "source": [
    "## 4. Simple Linear Regression"
   ]
  },
  {
   "cell_type": "markdown",
   "metadata": {},
   "source": [
    "Here we get the names of all the columns in sales_all."
   ]
  },
  {
   "cell_type": "code",
   "execution_count": 16,
   "metadata": {},
   "outputs": [
    {
     "data": {
      "text/html": [
       "<ol class=list-inline>\n",
       "\t<li>'Store'</li>\n",
       "\t<li>'Date'</li>\n",
       "\t<li>'IsHoliday'</li>\n",
       "\t<li>'Temperature'</li>\n",
       "\t<li>'Fuel_Price'</li>\n",
       "\t<li>'MarkDown1'</li>\n",
       "\t<li>'MarkDown2'</li>\n",
       "\t<li>'MarkDown3'</li>\n",
       "\t<li>'MarkDown4'</li>\n",
       "\t<li>'MarkDown5'</li>\n",
       "\t<li>'CPI'</li>\n",
       "\t<li>'Unemployment'</li>\n",
       "\t<li>'Dept'</li>\n",
       "\t<li>'Weekly_Sales'</li>\n",
       "\t<li>'Type'</li>\n",
       "\t<li>'Size'</li>\n",
       "</ol>\n"
      ],
      "text/latex": [
       "\\begin{enumerate*}\n",
       "\\item 'Store'\n",
       "\\item 'Date'\n",
       "\\item 'IsHoliday'\n",
       "\\item 'Temperature'\n",
       "\\item 'Fuel\\_Price'\n",
       "\\item 'MarkDown1'\n",
       "\\item 'MarkDown2'\n",
       "\\item 'MarkDown3'\n",
       "\\item 'MarkDown4'\n",
       "\\item 'MarkDown5'\n",
       "\\item 'CPI'\n",
       "\\item 'Unemployment'\n",
       "\\item 'Dept'\n",
       "\\item 'Weekly\\_Sales'\n",
       "\\item 'Type'\n",
       "\\item 'Size'\n",
       "\\end{enumerate*}\n"
      ],
      "text/markdown": [
       "1. 'Store'\n",
       "2. 'Date'\n",
       "3. 'IsHoliday'\n",
       "4. 'Temperature'\n",
       "5. 'Fuel_Price'\n",
       "6. 'MarkDown1'\n",
       "7. 'MarkDown2'\n",
       "8. 'MarkDown3'\n",
       "9. 'MarkDown4'\n",
       "10. 'MarkDown5'\n",
       "11. 'CPI'\n",
       "12. 'Unemployment'\n",
       "13. 'Dept'\n",
       "14. 'Weekly_Sales'\n",
       "15. 'Type'\n",
       "16. 'Size'\n",
       "\n",
       "\n"
      ],
      "text/plain": [
       " [1] \"Store\"        \"Date\"         \"IsHoliday\"    \"Temperature\"  \"Fuel_Price\"  \n",
       " [6] \"MarkDown1\"    \"MarkDown2\"    \"MarkDown3\"    \"MarkDown4\"    \"MarkDown5\"   \n",
       "[11] \"CPI\"          \"Unemployment\" \"Dept\"         \"Weekly_Sales\" \"Type\"        \n",
       "[16] \"Size\"        "
      ]
     },
     "metadata": {},
     "output_type": "display_data"
    }
   ],
   "source": [
    "names(sales_all)"
   ]
  },
  {
   "cell_type": "markdown",
   "metadata": {},
   "source": [
    "We install the package ggplot2."
   ]
  },
  {
   "cell_type": "code",
   "execution_count": 17,
   "metadata": {},
   "outputs": [
    {
     "name": "stderr",
     "output_type": "stream",
     "text": [
      "Installing package into 'C:/Users/Daelyn/Documents/R/win-library/3.6'\n",
      "(as 'lib' is unspecified)\n",
      "Warning message:\n",
      "\"package 'ggplot2' is in use and will not be installed\""
     ]
    }
   ],
   "source": [
    "install.packages(\"ggplot2\")"
   ]
  },
  {
   "cell_type": "markdown",
   "metadata": {},
   "source": [
    "Call the package ggplot2 for further use with require()."
   ]
  },
  {
   "cell_type": "code",
   "execution_count": 18,
   "metadata": {},
   "outputs": [],
   "source": [
    "require(ggplot2)"
   ]
  },
  {
   "cell_type": "markdown",
   "metadata": {},
   "source": [
    "lm() function is used to create a simple linear regression model where Weekly_Sales is the dependent or predicted variable and Temperature is the independent or predictor variable, we name this model slr1."
   ]
  },
  {
   "cell_type": "code",
   "execution_count": 19,
   "metadata": {},
   "outputs": [],
   "source": [
    "slr1 <- lm(Weekly_Sales ~ Temperature, data = sales_all)"
   ]
  },
  {
   "cell_type": "markdown",
   "metadata": {},
   "source": [
    "We display the summary of the above created model slr1.  "
   ]
  },
  {
   "cell_type": "code",
   "execution_count": 20,
   "metadata": {},
   "outputs": [
    {
     "data": {
      "text/plain": [
       "\n",
       "Call:\n",
       "lm(formula = Weekly_Sales ~ Temperature, data = sales_all)\n",
       "\n",
       "Residuals:\n",
       "   Min     1Q Median     3Q    Max \n",
       "-19041 -15056  -9249   4891 613083 \n",
       "\n",
       "Coefficients:\n",
       "             Estimate Std. Error t value Pr(>|t|)    \n",
       "(Intercept) 16845.349    261.593  64.395  < 2e-16 ***\n",
       "Temperature    17.644      4.346   4.059 4.92e-05 ***\n",
       "---\n",
       "Signif. codes:  0 '***' 0.001 '**' 0.01 '*' 0.05 '.' 0.1 ' ' 1\n",
       "\n",
       "Residual standard error: 24730 on 97054 degrees of freedom\n",
       "Multiple R-squared:  0.0001698,\tAdjusted R-squared:  0.0001595 \n",
       "F-statistic: 16.48 on 1 and 97054 DF,  p-value: 4.923e-05\n"
      ]
     },
     "metadata": {},
     "output_type": "display_data"
    }
   ],
   "source": [
    "summary.lm(slr1)"
   ]
  },
  {
   "cell_type": "markdown",
   "metadata": {},
   "source": [
    "The p value displayed above is greater than 0.05 so its not significant which means temperature does not affect the weekly sales. The residual standard error value is the difference between the observed data of the dependent variable and fitted values."
   ]
  },
  {
   "cell_type": "markdown",
   "metadata": {},
   "source": [
    "Below we plot the graph of the above created model using plot function and options function to avoid exponential values being diplayed on the axis."
   ]
  },
  {
   "cell_type": "code",
   "execution_count": 21,
   "metadata": {},
   "outputs": [
    {
     "data": {
      "image/png": "[encoded data removed]",
      "text/plain": [
       "Plot with title \"Temperature and Weekly Sales\""
      ]
     },
     "metadata": {},
     "output_type": "display_data"
    }
   ],
   "source": [
    "plot(sales_all$Temperature, sales_all$Weekly_Sales, ylab = \"Weekly Sales\", xlab = \"Temperature\", main = \"Temperature and Weekly Sales\")\n",
    "options(scipen = 999, repr.plot.width = 7, repr.plot.height = 5)"
   ]
  },
  {
   "cell_type": "markdown",
   "metadata": {},
   "source": [
    "lm() function is used to create a simple linear regression model where Weekly_Sales is the dependent or predicted variable and IsHoliday is the independent or predictor variable, we name this model slr2."
   ]
  },
  {
   "cell_type": "code",
   "execution_count": 22,
   "metadata": {},
   "outputs": [],
   "source": [
    "slr2 <- lm(Weekly_Sales ~ IsHoliday, data = sales_all)"
   ]
  },
  {
   "cell_type": "markdown",
   "metadata": {},
   "source": [
    "We display the summary of the above created model slr2.  "
   ]
  },
  {
   "cell_type": "code",
   "execution_count": 23,
   "metadata": {},
   "outputs": [
    {
     "data": {
      "text/plain": [
       "\n",
       "Call:\n",
       "lm(formula = Weekly_Sales ~ IsHoliday, data = sales_all)\n",
       "\n",
       "Residuals:\n",
       "   Min     1Q Median     3Q    Max \n",
       "-19706 -15083  -9234   4865 612092 \n",
       "\n",
       "Coefficients:\n",
       "              Estimate Std. Error t value             Pr(>|t|)    \n",
       "(Intercept)   17736.64      83.81 211.628 < 0.0000000000000002 ***\n",
       "IsHolidayTRUE  1170.99     261.21   4.483           0.00000737 ***\n",
       "---\n",
       "Signif. codes:  0 '***' 0.001 '**' 0.01 '*' 0.05 '.' 0.1 ' ' 1\n",
       "\n",
       "Residual standard error: 24730 on 97054 degrees of freedom\n",
       "Multiple R-squared:  0.000207,\tAdjusted R-squared:  0.0001967 \n",
       "F-statistic:  20.1 on 1 and 97054 DF,  p-value: 0.000007368\n"
      ]
     },
     "metadata": {},
     "output_type": "display_data"
    }
   ],
   "source": [
    "summary.lm(slr2)"
   ]
  },
  {
   "cell_type": "markdown",
   "metadata": {},
   "source": [
    "The p value displayed above is less than 0.05 so it is significant which means IsHoliday does affect the weekly sales. The residual standard error value is the difference between the observed data of the dependent variable and fitted values."
   ]
  },
  {
   "cell_type": "markdown",
   "metadata": {},
   "source": [
    "Below we plot the graph of the above created model using plot function and options function to avoid exponential values being diplayed on the axis."
   ]
  },
  {
   "cell_type": "code",
   "execution_count": 24,
   "metadata": {},
   "outputs": [],
   "source": [
    "##plot(sales_all$IsHoliday, sales_all$Weekly_Sales, ylab = \"Weekly Sales\", xlab = \"Holiday\", main = \"Holiday and Weekly Sales\")\n",
    "##options(scipen = 999, repr.plot.width = 7, repr.plot.height = 5)"
   ]
  },
  {
   "cell_type": "markdown",
   "metadata": {},
   "source": [
    "lm() function is used to create a simple linear regression model where Weekly_Sales is the dependent or predicted variable and Fuel Price is the independent or predictor variable, we name this model slr1."
   ]
  },
  {
   "cell_type": "code",
   "execution_count": 25,
   "metadata": {},
   "outputs": [],
   "source": [
    "slr3 <- lm(Weekly_Sales ~ Fuel_Price, data = sales_all)"
   ]
  },
  {
   "cell_type": "markdown",
   "metadata": {},
   "source": [
    "We display the summary of the above created model slr3.  "
   ]
  },
  {
   "cell_type": "code",
   "execution_count": 26,
   "metadata": {},
   "outputs": [
    {
     "data": {
      "text/plain": [
       "\n",
       "Call:\n",
       "lm(formula = Weekly_Sales ~ Fuel_Price, data = sales_all)\n",
       "\n",
       "Residuals:\n",
       "   Min     1Q Median     3Q    Max \n",
       "-20161 -15093  -9208   4890 613398 \n",
       "\n",
       "Coefficients:\n",
       "            Estimate Std. Error t value             Pr(>|t|)    \n",
       "(Intercept)  24428.2     1028.9  23.742 < 0.0000000000000002 ***\n",
       "Fuel_Price   -1815.7      283.5  -6.405       0.000000000151 ***\n",
       "---\n",
       "Signif. codes:  0 '***' 0.001 '**' 0.01 '*' 0.05 '.' 0.1 ' ' 1\n",
       "\n",
       "Residual standard error: 24730 on 97054 degrees of freedom\n",
       "Multiple R-squared:  0.0004226,\tAdjusted R-squared:  0.0004123 \n",
       "F-statistic: 41.03 on 1 and 97054 DF,  p-value: 0.0000000001506\n"
      ]
     },
     "metadata": {},
     "output_type": "display_data"
    }
   ],
   "source": [
    "summary.lm(slr3)"
   ]
  },
  {
   "cell_type": "markdown",
   "metadata": {},
   "source": [
    "The p value displayed above is greater than 0.05 so its not significant which means Fuel Price does not affect the weekly sales. The residual standard error value is the difference between the observed data of the dependent variable and fitted values."
   ]
  },
  {
   "cell_type": "markdown",
   "metadata": {},
   "source": [
    "Below we plot the graph of the above created model using plot function and options function to avoid exponential values being diplayed on the axis."
   ]
  },
  {
   "cell_type": "code",
   "execution_count": 27,
   "metadata": {},
   "outputs": [],
   "source": [
    "##plot(sales_all$Fuel_Price, sales_all$Weekly_Sales, ylab = \"Weekly Sales\", xlab = \"Fuel Price\", main = \"Fuel Price and Weekly Sales\")\n",
    "##options(scipen = 999, repr.plot.width = 7, repr.plot.height = 5)"
   ]
  },
  {
   "cell_type": "markdown",
   "metadata": {},
   "source": [
    "lm() function is used to create a simple linear regression model where Weekly_Sales is the dependent or predicted variable and CPI is the independent or predictor variable, we name this model slr1."
   ]
  },
  {
   "cell_type": "code",
   "execution_count": 28,
   "metadata": {},
   "outputs": [],
   "source": [
    "slr4 <- lm(Weekly_Sales ~ CPI, data = sales_all)"
   ]
  },
  {
   "cell_type": "markdown",
   "metadata": {},
   "source": [
    "We display the summary of the above created model slr4.  "
   ]
  },
  {
   "cell_type": "code",
   "execution_count": 29,
   "metadata": {},
   "outputs": [
    {
     "data": {
      "text/plain": [
       "\n",
       "Call:\n",
       "lm(formula = Weekly_Sales ~ CPI, data = sales_all)\n",
       "\n",
       "Residuals:\n",
       "   Min     1Q Median     3Q    Max \n",
       "-19330 -15066  -9200   4891 612683 \n",
       "\n",
       "Coefficients:\n",
       "             Estimate Std. Error t value             Pr(>|t|)    \n",
       "(Intercept) 19641.717    358.743  54.752 < 0.0000000000000002 ***\n",
       "CPI           -10.211      2.002  -5.101          0.000000339 ***\n",
       "---\n",
       "Signif. codes:  0 '***' 0.001 '**' 0.01 '*' 0.05 '.' 0.1 ' ' 1\n",
       "\n",
       "Residual standard error: 24730 on 97054 degrees of freedom\n",
       "Multiple R-squared:  0.000268,\tAdjusted R-squared:  0.0002577 \n",
       "F-statistic: 26.02 on 1 and 97054 DF,  p-value: 0.0000003388\n"
      ]
     },
     "metadata": {},
     "output_type": "display_data"
    }
   ],
   "source": [
    "summary.lm(slr4)"
   ]
  },
  {
   "cell_type": "markdown",
   "metadata": {},
   "source": [
    "The p value displayed above is less than 0.05 so it is significant which means CPI does affect the weekly sales. The residual standard error value is the difference between the observed data of the dependent variable and fitted values."
   ]
  },
  {
   "cell_type": "markdown",
   "metadata": {},
   "source": [
    "Below we plot the graph of the above created model using plot function and options function to avoid exponential values being diplayed on the axis."
   ]
  },
  {
   "cell_type": "code",
   "execution_count": 30,
   "metadata": {},
   "outputs": [],
   "source": [
    "##plot(sales_all$CPI, sales_all$Weekly_Sales, ylab = \"Weekly Sales\", xlab = \"CPI\", main = \"CPI and Weekly Sales\")\n",
    "##options(scipen = 999, repr.plot.width = 7, repr.plot.height = 5)"
   ]
  },
  {
   "cell_type": "markdown",
   "metadata": {},
   "source": [
    "Below lm() function is used to create a simple linear regression model where Weekly_Sales is the dependent or predicted variable and Unemployment is the independent or predictor variable, we name this model slr1."
   ]
  },
  {
   "cell_type": "code",
   "execution_count": 31,
   "metadata": {},
   "outputs": [],
   "source": [
    "slr5 <- lm(Weekly_Sales ~ Unemployment, data = sales_all)"
   ]
  },
  {
   "cell_type": "markdown",
   "metadata": {},
   "source": [
    "We display the summary of the above created model slr5.  "
   ]
  },
  {
   "cell_type": "code",
   "execution_count": 32,
   "metadata": {},
   "outputs": [
    {
     "data": {
      "text/plain": [
       "\n",
       "Call:\n",
       "lm(formula = Weekly_Sales ~ Unemployment, data = sales_all)\n",
       "\n",
       "Residuals:\n",
       "   Min     1Q Median     3Q    Max \n",
       "-20240 -15022  -9231   4892 613393 \n",
       "\n",
       "Coefficients:\n",
       "             Estimate Std. Error t value            Pr(>|t|)    \n",
       "(Intercept)  21907.87     353.34   62.00 <0.0000000000000002 ***\n",
       "Unemployment  -546.31      46.44  -11.76 <0.0000000000000002 ***\n",
       "---\n",
       "Signif. codes:  0 '***' 0.001 '**' 0.01 '*' 0.05 '.' 0.1 ' ' 1\n",
       "\n",
       "Residual standard error: 24710 on 97054 degrees of freedom\n",
       "Multiple R-squared:  0.001424,\tAdjusted R-squared:  0.001414 \n",
       "F-statistic: 138.4 on 1 and 97054 DF,  p-value: < 0.00000000000000022\n"
      ]
     },
     "metadata": {},
     "output_type": "display_data"
    }
   ],
   "source": [
    "summary.lm(slr5)"
   ]
  },
  {
   "cell_type": "markdown",
   "metadata": {},
   "source": [
    "The p value displayed above is less than 0.05 so it is significant which means Unemployment does affect the weekly sales. The residual standard error value is the difference between the observed data of the dependent variable and fitted values."
   ]
  },
  {
   "cell_type": "markdown",
   "metadata": {},
   "source": [
    "Below we plot the graph of the above created model using plot function and options function to avoid exponential values being diplayed on the axis."
   ]
  },
  {
   "cell_type": "code",
   "execution_count": 33,
   "metadata": {},
   "outputs": [],
   "source": [
    "##plot(sales_all$Unemployment, sales_all$Weekly_Sales, ylab = \"Weekly Sales\", xlab = \"Unemployment\", main = \"Unemployment and Weekly Sales\")\n",
    "##options(scipen = 999, repr.plot.width = 7, repr.plot.height = 5)"
   ]
  },
  {
   "cell_type": "markdown",
   "metadata": {},
   "source": [
    "## 5. Model Comparison"
   ]
  },
  {
   "cell_type": "markdown",
   "metadata": {},
   "source": [
    "Comparing the above created models we see that Weekly sale and IsHoliday, weekly sales and CPI, Weekly sales and Unemployment Simple Linear Regression models have significant p values. All these 3 models have the dependent variables that are affected by the independent variables. <br>\n",
    "\n",
    "The Multiple R-squared values of the all the above models are very less which means the model does not represent the data well. The model slr4 has a better Multiple R-squared value compared to the other models and has a significant p value too as mentioned above. So the best model among the Simple Linear Regression models would be the Weekly Sales and CPI model. But the Multiple R-squared values being so low we shouldn't be making any conclusions from the p values."
   ]
  },
  {
   "cell_type": "markdown",
   "metadata": {},
   "source": [
    "## 6. Multilple Linear Regression"
   ]
  },
  {
   "cell_type": "markdown",
   "metadata": {},
   "source": [
    "Below lm() function is used to create a multiple linear regression model where Weekly_Sales is the dependent or predicted variable and Temperature and IsHoliday are the independent or predictor variable, we name this model mlr1."
   ]
  },
  {
   "cell_type": "code",
   "execution_count": 34,
   "metadata": {},
   "outputs": [],
   "source": [
    "mlr1 <- lm(Weekly_Sales ~ Temperature + IsHoliday, data = sales_all)"
   ]
  },
  {
   "cell_type": "markdown",
   "metadata": {},
   "source": [
    "Below we display the summary of the above created model mlr1.  "
   ]
  },
  {
   "cell_type": "code",
   "execution_count": 35,
   "metadata": {},
   "outputs": [
    {
     "data": {
      "text/plain": [
       "\n",
       "Call:\n",
       "lm(formula = Weekly_Sales ~ Temperature + IsHoliday, data = sales_all)\n",
       "\n",
       "Residuals:\n",
       "   Min     1Q Median     3Q    Max \n",
       "-19784 -15043  -9231   4882 611847 \n",
       "\n",
       "Coefficients:\n",
       "               Estimate Std. Error t value             Pr(>|t|)    \n",
       "(Intercept)   16504.942    269.727  61.191 < 0.0000000000000002 ***\n",
       "Temperature      21.128      4.398   4.804          0.000001556 ***\n",
       "IsHolidayTRUE  1365.676    264.302   5.167          0.000000238 ***\n",
       "---\n",
       "Signif. codes:  0 '***' 0.001 '**' 0.01 '*' 0.05 '.' 0.1 ' ' 1\n",
       "\n",
       "Residual standard error: 24730 on 97053 degrees of freedom\n",
       "Multiple R-squared:  0.0004447,\tAdjusted R-squared:  0.0004241 \n",
       "F-statistic: 21.59 on 2 and 97053 DF,  p-value: 0.0000000004218\n"
      ]
     },
     "metadata": {},
     "output_type": "display_data"
    }
   ],
   "source": [
    "summary.lm(mlr1)"
   ]
  },
  {
   "cell_type": "markdown",
   "metadata": {},
   "source": [
    "The p value displayed above is less than 0.05 so it is significant which means Temperature and IsHoliday both affect the weekly sales. The residual standard error value is the difference between the observed data of the dependent variable and fitted values."
   ]
  },
  {
   "cell_type": "markdown",
   "metadata": {},
   "source": [
    "Below lm() function is used to create a multiple linear regression model where Weekly_Sales is the dependent or predicted variable and MarkDown1, MarkDown2, MarkDown3 and MarkDown4 are the independent or predictor variables, we name this model mlr2."
   ]
  },
  {
   "cell_type": "code",
   "execution_count": 37,
   "metadata": {},
   "outputs": [],
   "source": [
    "mlr2 <- lm(Weekly_Sales ~ MarkDown1 + MarkDown2 + MarkDown3 + MarkDown4, data = sales_all)"
   ]
  },
  {
   "cell_type": "markdown",
   "metadata": {},
   "source": [
    "We display the summary of the above created model mlr2.  "
   ]
  },
  {
   "cell_type": "code",
   "execution_count": 38,
   "metadata": {},
   "outputs": [
    {
     "data": {
      "text/plain": [
       "\n",
       "Call:\n",
       "lm(formula = Weekly_Sales ~ MarkDown1 + MarkDown2 + MarkDown3 + \n",
       "    MarkDown4, data = sales_all)\n",
       "\n",
       "Residuals:\n",
       "   Min     1Q Median     3Q    Max \n",
       "-38625 -14828  -9075   4869 592362 \n",
       "\n",
       "Coefficients:\n",
       "                Estimate   Std. Error t value             Pr(>|t|)    \n",
       "(Intercept) 16238.203917   120.518165 134.737 < 0.0000000000000002 ***\n",
       "MarkDown1       0.146597     0.015385   9.528 < 0.0000000000000002 ***\n",
       "MarkDown2       0.047543     0.007880   6.033        0.00000000161 ***\n",
       "MarkDown3       0.157881     0.007282  21.681 < 0.0000000000000002 ***\n",
       "MarkDown4      -0.034656     0.019755  -1.754               0.0794 .  \n",
       "---\n",
       "Signif. codes:  0 '***' 0.001 '**' 0.01 '*' 0.05 '.' 0.1 ' ' 1\n",
       "\n",
       "Residual standard error: 24650 on 97051 degrees of freedom\n",
       "Multiple R-squared:  0.006464,\tAdjusted R-squared:  0.006423 \n",
       "F-statistic: 157.9 on 4 and 97051 DF,  p-value: < 0.00000000000000022\n"
      ]
     },
     "metadata": {},
     "output_type": "display_data"
    }
   ],
   "source": [
    "summary.lm(mlr2)"
   ]
  },
  {
   "cell_type": "markdown",
   "metadata": {},
   "source": [
    "The p value displayed above is less than 0.05 so it is significant which means MarkDown1, MarkDown2, MarkDown3 and MarkDown4 affect the weekly sales. The residual standard error value is the difference between the observed data of the dependent variable and fitted values."
   ]
  },
  {
   "cell_type": "markdown",
   "metadata": {},
   "source": [
    "Both the above models have significant p values but the Multiple R-squared values being very less the models do not fit the data well and we cannot make any defined conclusions. The Multiple R-squared value of model mlr1 is still slightly higher than model mlr2 so we can say that multiple linear regression model mlr2 is the best choice here. "
   ]
  },
  {
   "cell_type": "markdown",
   "metadata": {},
   "source": [
    "The Multiple R-squared values of the Multiple Regression Models are comparatively better than the values of the Simple Linear Regression Models. MLR models fit the data better than the SLR models."
   ]
  },
  {
   "cell_type": "markdown",
   "metadata": {},
   "source": [
    "## 7. Summary"
   ]
  },
  {
   "cell_type": "markdown",
   "metadata": {},
   "source": [
    "After merging and analysing the datasets we learn that there are more than one column that postively affect the weekly sales. Unemployment, Holiday, CPI individually affect the weekly sales. The 5 MarkDown columns all play an important role in boosting the weekly sales but only at a specific period of time like during festive sale promotions. <br>\n",
    "\n",
    "We infered that even tho we would assume that unemployment would not be a factor to boost sales, it is. CPI plays an important role too. We also learnt that even multiple columns together help to boost the weekly sales. The temperature and if its a holiday or not together predict the weekly sales. "
   ]
  },
  {
   "cell_type": "markdown",
   "metadata": {},
   "source": [
    "## 8. Recommendation"
   ]
  },
  {
   "cell_type": "markdown",
   "metadata": {},
   "source": [
    "Amazon representatives should pay more attention to the factors that drastically affect the weekly sales like holidays and MarkDowns especially. The other factors also play a role in boosting sales like temperature that day, unemployment, CPI. <br>\n",
    "\n",
    "These factors should be used well, target shoppers can be identified and approached appropriately and the weekly sales can be increased. "
   ]
  }
 ],
 "metadata": {
  "kernelspec": {
   "display_name": "R",
   "language": "R",
   "name": "ir"
  },
  "language_info": {
   "codemirror_mode": "r",
   "file_extension": ".r",
   "mimetype": "text/x-r-source",
   "name": "R",
   "pygments_lexer": "r",
   "version": "3.6.1"
  }
 },
 "nbformat": 4,
 "nbformat_minor": 2
}
